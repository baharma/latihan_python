{
 "cells": [
  {
   "cell_type": "code",
   "execution_count": 5,
   "id": "5f9b0c85",
   "metadata": {},
   "outputs": [],
   "source": [
    "import cv2 \n",
    "import numpy as np"
   ]
  },
  {
   "cell_type": "code",
   "execution_count": 9,
   "id": "3e15a1b5",
   "metadata": {},
   "outputs": [],
   "source": [
    "img = cv2.imread('w1IkY.png',0)"
   ]
  },
  {
   "cell_type": "code",
   "execution_count": 10,
   "id": "54a737c7",
   "metadata": {},
   "outputs": [
    {
     "name": "stdout",
     "output_type": "stream",
     "text": [
      "uint8\n"
     ]
    },
    {
     "data": {
      "text/plain": [
       "-1"
      ]
     },
     "execution_count": 10,
     "metadata": {},
     "output_type": "execute_result"
    }
   ],
   "source": [
    "print(img.dtype)\n",
    "img_neg = 255 - img\n",
    "cv2.imshow('negatif',img_neg)\n",
    "min_img = np.zeros((img.shape[0],img.shape[1]),dtype='uint8')\n",
    "\n",
    "for i in range(img.shape[0]):\n",
    "    for j in range(img.shape[1]):\n",
    "        min_img[i,j] = 255*(img[i,j]-np.min(img))/(np.max(img)-np.min(img))\n",
    "\n",
    "cv2.imshow('minmax',min_img)\n",
    "\n",
    "gray = cv2.cvtColor(img,cv2.COLOR_BGR2GRAY)\n",
    "edges = cv2.Canny(gray,50,150,apertureSize = 3)\n",
    "minLineLength = 100\n",
    "maxLineGap = 10\n",
    "lines = cv2.HoughLinesP(edges,1,np.pi/180,100,minLineLength,maxLineGap)\n",
    "for x1,y1,x2,y2 in lines[0]:\n",
    "    cv2.line(img,(x1,y1),(x2,y2),(0,255,0),2)\n",
    "\n",
    "cv2.imwrite('houghlines5.jpg',img)\n",
    "cv2.waitKey(0)"
   ]
  }
 ],
 "metadata": {
  "kernelspec": {
   "display_name": "Python 3.10.5 64-bit",
   "language": "python",
   "name": "python3"
  },
  "language_info": {
   "codemirror_mode": {
    "name": "ipython",
    "version": 3
   },
   "file_extension": ".py",
   "mimetype": "text/x-python",
   "name": "python",
   "nbconvert_exporter": "python",
   "pygments_lexer": "ipython3",
   "version": "3.10.5"
  },
  "vscode": {
   "interpreter": {
    "hash": "6ac83b3d14ed2ef97142a0be81f524ecfdf0793fff4c6f4791bc3c272bac7104"
   }
  }
 },
 "nbformat": 4,
 "nbformat_minor": 5
}
