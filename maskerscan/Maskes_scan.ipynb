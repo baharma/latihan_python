{
 "cells": [
  {
   "cell_type": "code",
   "execution_count": 1,
   "id": "5f9b0c85",
   "metadata": {},
   "outputs": [],
   "source": [
    "import cv2"
   ]
  },
  {
   "cell_type": "code",
   "execution_count": 2,
   "id": "3e15a1b5",
   "metadata": {},
   "outputs": [],
   "source": [
    "faceCascade = cv2.CascadeClassifier(\"D:/haarcascade/haarcascade_frontalface_default.xml\")\n",
    "mouthCascade = cv2.CascadeClassifier(\"D:/haarcascade/haarcascade_mcs_mouth.xml\")"
   ]
  },
  {
   "cell_type": "code",
   "execution_count": 3,
   "id": "54a737c7",
   "metadata": {},
   "outputs": [],
   "source": [
    "video_capture = cv2.VideoCapture(0)\n",
    "mask_on = False\n",
    "\n",
    "while True:\n",
    "    #ambil frame-by-frame\n",
    "    ret, frame = video_capture.read()\n",
    "    gray = cv2.cvtColor(frame, cv2.COLOR_BGR2GRAY)\n",
    "    wajah = faceCascade.detectMultiScale(gray, 1.1, 5)\n",
    "    \n",
    "    for (x, y, w, h)in wajah:\n",
    "        roi_gray = gray[y:y+h, x:x+w]\n",
    "        roi_color = frame[y:y+h, x:x+w]\n",
    "        if mask_on:\n",
    "            cv2.rectangle(frame, (x, y), (x+w, y+h), (0, 255, 0), 3)\n",
    "            cv2.putText(frame,'Mask on', (x, y), cv2.FONT_HERSHEY_SIMPLEX, 2,(0,0,255), 5)\n",
    "        else:\n",
    "            cv2.rectangle(frame, (x, y), (x+w, y+h), (0, 255, 0), 3)\n",
    "            cv2.putText(frame,'Mask off', (x, y), cv2.FONT_HERSHEY_SIMPLEX, 2,(0,255,0), 5)\n",
    "        \n",
    "        mulut = mouthCascade.detectMultiScale(roi_gray, 1.18, 35,)\n",
    "        for (sx, sy, sw, sh) in mulut:\n",
    "            cv2.rectangle(roi_color, (sh, sy), (sx+sw, sy+sh), (255, 0, 0), 2)\n",
    "            cv2.putText(frame,'mulut',(x + sx,y +sy), 1, 1,(0, 255, 0), 1)\n",
    "        \n",
    "        if len(mulut)>0:\n",
    "            mask_on = False\n",
    "        else:\n",
    "            mask_on = True\n",
    "        \n",
    "    cv2.putText(frame,'jumlah wajah : ' +str(len(wajah)),(30, 30), cv2.FONT_HERSHEY_SIMPLEX, 1, (255,0,0), 2)\n",
    "    cv2.imshow('video', frame)\n",
    "    \n",
    "    if cv2.waitKey(1) & 0xFF == ord('q'):\n",
    "        break\n",
    "\n",
    "video_capture.release()\n",
    "cv2.destroyAllWindows()"
   ]
  },
  {
   "cell_type": "code",
   "execution_count": null,
   "id": "795b5cc3",
   "metadata": {},
   "outputs": [],
   "source": []
  }
 ],
 "metadata": {
  "kernelspec": {
   "display_name": "Python 3.10.5 64-bit",
   "language": "python",
   "name": "python3"
  },
  "language_info": {
   "codemirror_mode": {
    "name": "ipython",
    "version": 3
   },
   "file_extension": ".py",
   "mimetype": "text/x-python",
   "name": "python",
   "nbconvert_exporter": "python",
   "pygments_lexer": "ipython3",
   "version": "3.10.5"
  },
  "vscode": {
   "interpreter": {
    "hash": "6ac83b3d14ed2ef97142a0be81f524ecfdf0793fff4c6f4791bc3c272bac7104"
   }
  }
 },
 "nbformat": 4,
 "nbformat_minor": 5
}
